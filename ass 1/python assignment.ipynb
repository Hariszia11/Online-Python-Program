{
 "cells": [
  {
   "cell_type": "code",
   "execution_count": 1,
   "id": "651b427b",
   "metadata": {},
   "outputs": [
    {
     "name": "stdout",
     "output_type": "stream",
     "text": [
      "Twinkle Twinkle little Star\n",
      " How i wonder What You Are\n",
      "   up above the world so high\n",
      "   like a diamond in the sky.\n",
      "Twinkle Twinkle little star\n"
     ]
    }
   ],
   "source": [
    "#write a program to print the following:\n",
    "print(\"Twinkle Twinkle little Star\\n How i wonder What You Are\\n   up above the world so high\\n   like a diamond in the sky.\\nTwinkle Twinkle little star\");"
   ]
  },
  {
   "cell_type": "code",
   "execution_count": 3,
   "id": "f0c7f534",
   "metadata": {},
   "outputs": [
    {
     "name": "stdout",
     "output_type": "stream",
     "text": [
      "Python Version is \n",
      "3.8.8 (default, Apr 13 2021, 15:08:03) [MSC v.1916 64 bit (AMD64)]\n"
     ]
    }
   ],
   "source": [
    "#write a program to get python versin:\n",
    "import sys\n",
    "print(\"Python Version is \")\n",
    "print(sys.version)"
   ]
  },
  {
   "cell_type": "code",
   "execution_count": 6,
   "id": "78cc4d71",
   "metadata": {},
   "outputs": [
    {
     "name": "stdout",
     "output_type": "stream",
     "text": [
      " Date and Time :\n",
      "2021-20-10/24/21 03:20:32\n"
     ]
    }
   ],
   "source": [
    "#write a program to display the date ann time:\n",
    "import datetime\n",
    "now = datetime.datetime.now()\n",
    "print (\" Date and Time :\")\n",
    "print (now.strftime(\"%Y-%M-%D %H:%M:%S\"))"
   ]
  },
  {
   "cell_type": "code",
   "execution_count": 7,
   "id": "e0346665",
   "metadata": {},
   "outputs": [
    {
     "name": "stdout",
     "output_type": "stream",
     "text": [
      "Radius of circle is : 3\n",
      "28.278\n"
     ]
    }
   ],
   "source": [
    "#write a program to calculate the area of circle:\n",
    "radius = int(input(\"Radius of circle is : \"));\n",
    "area = 3.142*radius**2;\n",
    "print (area);"
   ]
  },
  {
   "cell_type": "code",
   "execution_count": 23,
   "id": "942ed109",
   "metadata": {},
   "outputs": [
    {
     "name": "stdout",
     "output_type": "stream",
     "text": [
      "Input your First name :Haris\n",
      "Input your Last name : Zia\n",
      " Zia Haris\n"
     ]
    }
   ],
   "source": [
    "#write a program to print the user first and last name in reverse order: \n",
    "fname = input (\"Input your First name :\")\n",
    "lname = input (\"Input your Last name : \")\n",
    "print(\" \" + lname + \" \" +fname )"
   ]
  },
  {
   "cell_type": "code",
   "execution_count": 12,
   "id": "34ba1314",
   "metadata": {},
   "outputs": [
    {
     "name": "stdout",
     "output_type": "stream",
     "text": [
      "Enter First number3\n",
      "Enter Second number3\n",
      "6\n"
     ]
    }
   ],
   "source": [
    "#write a program of sum of two input:\n",
    "x = int(input(\"Enter First number\"))\n",
    "y = int(input(\"Enter Second number\"))\n",
    "a = x+y;\n",
    "print(a)"
   ]
  },
  {
   "cell_type": "code",
   "execution_count": 13,
   "id": "91165e40",
   "metadata": {},
   "outputs": [
    {
     "name": "stdout",
     "output_type": "stream",
     "text": [
      "Enter eng marks44\n",
      "Enter isl marks55\n",
      "Enter maths marks66\n",
      "c\n"
     ]
    }
   ],
   "source": [
    "#write a program to generate marksheet using grades:\n",
    "eng = int(input(\"Enter eng marks\"));\n",
    "isl = int(input(\"Enter isl marks\"));\n",
    "maths =int(input(\"Enter maths marks\"));\n",
    "total = 300\n",
    "percent = (eng+isl+maths)/total * 100;\n",
    "if percent <100 and percent >=80:\n",
    "    print(\"A+\");\n",
    "elif percent <80 and percent >=70:\n",
    "    print(\"A\");\n",
    "elif percent < 70 and percent >= 60:\n",
    "    print(\"B\");\n",
    "elif percent < 60 and percent >= 50:\n",
    "    print(\"c\");\n",
    "elif percent < 50 and percent >= 40:\n",
    "    print(\"D\");\n",
    "elif percent < 40 and percent >= 33:\n",
    "    print(\"E\");\n",
    "else:\n",
    "    print(\"Fail\")"
   ]
  },
  {
   "cell_type": "code",
   "execution_count": 14,
   "id": "246de219",
   "metadata": {},
   "outputs": [
    {
     "name": "stdout",
     "output_type": "stream",
     "text": [
      "3\n"
     ]
    }
   ],
   "source": [
    "#write a program to print the length of a list:\n",
    "thislist = [\"apple\",\"banana\",\"cherry\"]\n",
    "print(len(thislist))"
   ]
  },
  {
   "cell_type": "code",
   "execution_count": 17,
   "id": "c87daa52",
   "metadata": {},
   "outputs": [
    {
     "name": "stdout",
     "output_type": "stream",
     "text": [
      "Sum of all Element in given in list  10\n",
      "Sum of all Element in given in list  25\n",
      "Sum of all Element in given in list  47\n",
      "Sum of all Element in given in list  51\n",
      "Sum of all Element in given in list  80\n"
     ]
    }
   ],
   "source": [
    "#write a program to print the sum of all numeric item: \n",
    "total = 0\n",
    "list1 = [10,15,22,4,29]\n",
    "for ele in range (0,len(list1)):\n",
    "    total = total + list1[ele]\n",
    "    print(\"Sum of all Element in given in list \",total)"
   ]
  },
  {
   "cell_type": "code",
   "execution_count": 19,
   "id": "89eb1a10",
   "metadata": {},
   "outputs": [
    {
     "name": "stdout",
     "output_type": "stream",
     "text": [
      "Largest Element is =  35\n"
     ]
    }
   ],
   "source": [
    "#write a program to get the largest number:\n",
    "list1 = [11,2,4,22,35]\n",
    "list1.sort()\n",
    "print (\"Largest Element is = \", list1[-1])"
   ]
  },
  {
   "cell_type": "code",
   "execution_count": 20,
   "id": "1b073fbb",
   "metadata": {},
   "outputs": [
    {
     "name": "stdout",
     "output_type": "stream",
     "text": [
      "1\n",
      "2\n",
      "3\n",
      "4\n"
     ]
    }
   ],
   "source": [
    "#write a program that print all the element less than 5:\n",
    "a = [1,2,3,4,5,11,9,8,12,13]\n",
    "for i in a:\n",
    " if   i < 5:\n",
    "    print(i)"
   ]
  },
  {
   "cell_type": "code",
   "execution_count": 22,
   "id": "802529b5",
   "metadata": {},
   "outputs": [
    {
     "name": "stdout",
     "output_type": "stream",
     "text": [
      "Enter a Number = 3\n",
      "odd\n"
     ]
    }
   ],
   "source": [
    "#write a program which take input from user and identify the no is odd or even:\n",
    "num = int(input(\"Enter a Number = \"))\n",
    "if (num % 2) == 0:\n",
    "    print(\"Even\".format(num))\n",
    "else:\n",
    "    print(\"odd\".format(num))"
   ]
  },
  {
   "cell_type": "code",
   "execution_count": null,
   "id": "9677ec82",
   "metadata": {},
   "outputs": [],
   "source": []
  },
  {
   "cell_type": "code",
   "execution_count": null,
   "id": "f86e9bba",
   "metadata": {},
   "outputs": [],
   "source": []
  }
 ],
 "metadata": {
  "kernelspec": {
   "display_name": "Python 3",
   "language": "python",
   "name": "python3"
  },
  "language_info": {
   "codemirror_mode": {
    "name": "ipython",
    "version": 3
   },
   "file_extension": ".py",
   "mimetype": "text/x-python",
   "name": "python",
   "nbconvert_exporter": "python",
   "pygments_lexer": "ipython3",
   "version": "3.8.8"
  }
 },
 "nbformat": 4,
 "nbformat_minor": 5
}
